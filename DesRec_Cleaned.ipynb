{
 "cells": [
  {
   "cell_type": "markdown",
   "id": "3fc892cc-c770-4613-bb1d-f2640c9b3a9a",
   "metadata": {},
   "source": [
    "### Preprocessing\n"
   ]
  },
  {
   "cell_type": "code",
   "execution_count": 2,
   "id": "33ae9ecb-d157-4e3d-9235-dec83540ad6e",
   "metadata": {},
   "outputs": [],
   "source": [
    "import pandas as pd\n",
    "import numpy as np\n",
    "import matplotlib.pyplot as plt\n",
    "import seaborn as sns"
   ]
  },
  {
   "cell_type": "code",
   "execution_count": 3,
   "id": "4a8a1b47-01ce-4364-985c-cea000fec7a7",
   "metadata": {},
   "outputs": [],
   "source": [
    "data=pd.read_csv(\"destinations_with_coordinates.csv\")\n",
    "df=pd.DataFrame(data)"
   ]
  },
  {
   "cell_type": "code",
   "execution_count": 4,
   "id": "95e10c23-f762-4b58-91a1-585ed1a80579",
   "metadata": {},
   "outputs": [],
   "source": [
    "from sklearn.preprocessing import MinMaxScaler"
   ]
  },
  {
   "cell_type": "code",
   "execution_count": 5,
   "id": "c32d398f-eddc-4697-b016-eabb2aebf58b",
   "metadata": {},
   "outputs": [
    {
     "name": "stdout",
     "output_type": "stream",
     "text": [
      "     pID                pName  culture  adventure  wildlife  sightseeing  \\\n",
      "512  513       Chadani bridge      0.0        0.0       0.0          0.8   \n",
      "513  514     Ghoda Ghodi lake      0.0        0.0       0.6          0.8   \n",
      "514  515         Tikapur Park      0.0        0.0       0.0          0.7   \n",
      "515  516  Godawari Ram Temple      0.8        0.0       0.0          0.8   \n",
      "516  517       Karnali Bridge      0.0        0.0       0.0          0.8   \n",
      "\n",
      "     history                            tags  province   latitude  \\\n",
      "512      0.0                           river         7  28.923935   \n",
      "513      0.0  lake, wildlife, natural beauty         7        NaN   \n",
      "514      0.7           park, history, forest         7  28.531705   \n",
      "515      0.0                   hindu, temple         7  27.601747   \n",
      "516      0.0                 river, scenery          7  28.640886   \n",
      "\n",
      "            longitude  \n",
      "512        80.1150514  \n",
      "513               NaN  \n",
      "514  81.1200850088515  \n",
      "515        85.3236257  \n",
      "516         81.283829  \n"
     ]
    }
   ],
   "source": [
    "scaler = MinMaxScaler()\n",
    "data[['culture', 'adventure', 'wildlife', 'sightseeing', 'history']] = scaler.fit_transform(\n",
    "    data[['culture', 'adventure', 'wildlife', 'sightseeing', 'history']]\n",
    ")\n",
    "if 'latitude' not in data.columns:\n",
    "    data['latitude'] = np.nan\n",
    "if 'longitude' not in data.columns:\n",
    "    data['longitude'] = np.nan\n",
    "\n",
    "data.to_csv(\"destinations_with_coordinates.csv\", index=False)\n",
    "\n",
    "print(data.tail())"
   ]
  },
  {
   "cell_type": "code",
   "execution_count": 6,
   "id": "c8e2317e-e2e8-4c29-b710-72d4c8adae7c",
   "metadata": {},
   "outputs": [],
   "source": [
    "import pandas as pd\n",
    "from sklearn.metrics.pairwise import cosine_similarity\n",
    "from sklearn.preprocessing import MinMaxScaler\n",
    "\n",
    "\n",
    "\n",
    "data['tags'] = data['tags'].fillna('')  # Handle missing tags\n",
    "data['tags_list'] = data['tags'].apply(lambda x: [tag.strip() for tag in x.split(',') if tag.strip()])\n",
    "\n",
    "all_tags = set(tag for tags in data['tags_list'] for tag in tags)\n",
    "pd.DataFrame({'tag': list(all_tags)}).to_csv(\"tags.csv\", index=False)\n",
    "\n",
    "tag_weights = {\n",
    "    \"historical\": {\"culture\": 0.8, \"adventure\": 0.0, \"wildlife\": 0.0, \"sightseeing\": 0.6, \"history\": 1.0},\n",
    "    \"wildlife\": {\"culture\": 0.0, \"adventure\": 0.0, \"wildlife\": 1.0, \"sightseeing\": 0.3, \"history\": 0.0},\n",
    "    \"adventure\": {\"culture\": 0.0, \"adventure\": 1.0, \"wildlife\": 0.5, \"sightseeing\": 0.5, \"history\": 0.0},\n",
    "    \"cultural\": {\"culture\": 1.0, \"adventure\": 0.0, \"wildlife\": 0.0, \"sightseeing\": 0.8, \"history\": 0.7},\n",
    "    \"scenic\": {\"culture\": 0.2, \"adventure\": 0.0, \"wildlife\": 0.0, \"sightseeing\": 1.0, \"history\": 0.2},\n",
    "}\n",
    "\n",
    "scaler = MinMaxScaler()\n",
    "data[['culture', 'adventure', 'wildlife', 'sightseeing', 'history']] = scaler.fit_transform(\n",
    "    data[['culture', 'adventure', 'wildlife', 'sightseeing', 'history']]\n",
    ")\n",
    "\n",
    "\n",
    "\n",
    "\n",
    "features = ['culture', 'adventure', 'wildlife', 'sightseeing', 'history']\n",
    "scaler = MinMaxScaler()\n",
    "data[features] = scaler.fit_transform(data[features])"
   ]
  },
  {
   "cell_type": "markdown",
   "id": "6fcfd18c-9eaa-4276-bc2a-13d1e92cba7f",
   "metadata": {},
   "source": [
    "### model generation"
   ]
  },
  {
   "cell_type": "code",
   "execution_count": 7,
   "id": "9a13ca1f-ed7e-4b34-a044-8bf48b577766",
   "metadata": {},
   "outputs": [],
   "source": [
    "from sklearn.metrics.pairwise import cosine_similarity\n",
    "\n",
    "features = ['culture', 'adventure', 'wildlife', 'sightseeing', 'history']\n",
    "\n",
    "feature_matrix = data[features].values\n",
    "similarity_matrix = cosine_similarity(feature_matrix)"
   ]
  },
  {
   "cell_type": "markdown",
   "id": "6892d381-d98a-447a-9f43-4e09732681ae",
   "metadata": {},
   "source": [
    "### API integration"
   ]
  },
  {
   "cell_type": "code",
   "execution_count": 8,
   "id": "755d5d40-a693-41bd-9de0-b9bbd8d052f5",
   "metadata": {},
   "outputs": [],
   "source": [
    "import requests\n",
    "\n",
    "def get_weather(lat, lon):\n",
    "    \"\"\"\n",
    "    Fetch weather information for a given latitude and longitude using OpenWeatherMap API.\n",
    "    \"\"\"\n",
    "    api_key = \"13e12c96cea3ae958db69de1f4bf41bd\"  \n",
    "    url = f\"https://api.openweathermap.org/data/2.5/weather?lat={lat}&lon={lon}&appid={api_key}\"\n",
    "\n",
    "    try:\n",
    "        response = requests.get(url)\n",
    "        if response.status_code == 200:\n",
    "            weather_data = response.json()\n",
    "            return {\n",
    "                \"description\": weather_data[\"weather\"][0][\"description\"],\n",
    "                \"temperature\": weather_data[\"main\"][\"temp\"],\n",
    "                \"humidity\": weather_data[\"main\"][\"humidity\"],\n",
    "            }\n",
    "        else:\n",
    "            print(f\"API Error: {response.status_code}, {response.text}\")\n",
    "            return None\n",
    "    except Exception as e:\n",
    "        print(f\"Error fetching weather data: {e}\")\n",
    "        return None"
   ]
  },
  {
   "cell_type": "code",
   "execution_count": null,
   "id": "b2de6f41-65b2-4894-a4e1-26f76e374509",
   "metadata": {},
   "outputs": [],
   "source": []
  },
  {
   "cell_type": "code",
   "execution_count": null,
   "id": "47545190-645b-499a-9abb-257f0dfe10e4",
   "metadata": {},
   "outputs": [],
   "source": []
  },
  {
   "cell_type": "markdown",
   "id": "a854ca40-1548-469b-aa0b-d7545aa81957",
   "metadata": {},
   "source": [
    "### recommendor"
   ]
  },
  {
   "cell_type": "code",
   "execution_count": 16,
   "id": "178be5a0-d81c-48aa-8b45-326914814d3f",
   "metadata": {},
   "outputs": [
    {
     "name": "stdin",
     "output_type": "stream",
     "text": [
      "Enter a destination:  Jiri\n",
      "Do you want to add preferences? (yes/no):  n\n",
      "Do you want to add tags? (yes/no):  yes\n",
      "Enter tags separated by commas (e.g., adventure,culture):  adventure\n"
     ]
    },
    {
     "name": "stdout",
     "output_type": "stream",
     "text": [
      "\n",
      "Recommendations with Weather Info:\n",
      "                              pName weather\n",
      "0              Ranipokhari, chitwan   Sunny\n",
      "1                     Bishazari Tal   Sunny\n",
      "2  Rafting and Kayaking in Karnali    Sunny\n",
      "3                       Tamur river   Sunny\n",
      "4                              Jiri   Sunny\n"
     ]
    }
   ],
   "source": [
    "import pandas as pd\n",
    "from sklearn.metrics.pairwise import cosine_similarity\n",
    "import numpy as np\n",
    "\n",
    "def get_weather(lat, lon):\n",
    "    return {\"description\": \"Sunny\"}\n",
    "\n",
    "def recommend_destinations_with_weather(input_destination, user_preferences=None, selected_tags=None, top_n=5):\n",
    "    \"\"\"\n",
    "    Recommend destinations based on cosine similarity, user preferences, and tags.\n",
    "    Add weather information to recommendations.\n",
    "    \"\"\"\n",
    "    features = [\"culture\", \"adventure\", \"wildlife\", \"sightseeing\", \"history\"]\n",
    "    feature_matrix = data[features].values\n",
    "\n",
    "    if input_destination not in data['pName'].values:\n",
    "        raise ValueError(f\"Destination '{input_destination}' not found in dataset.\")\n",
    "    destination_idx = data[data['pName'] == input_destination].index[0]\n",
    "\n",
    "    similarity_scores = cosine_similarity(feature_matrix, feature_matrix[destination_idx].reshape(1, -1)).flatten()\n",
    "\n",
    "    if user_preferences:\n",
    "        user_vector = np.array([user_preferences.get(feature, 0) for feature in features])\n",
    "        similarity_scores += cosine_similarity(feature_matrix, user_vector.reshape(1, -1)).flatten()\n",
    "\n",
    "    if selected_tags:\n",
    "        tag_weights = {tag: 1 for tag in selected_tags}\n",
    "        for idx, row in data.iterrows():\n",
    "            row_tags = row['tags'].split(',')\n",
    "            for tag in row_tags:\n",
    "                if tag in tag_weights:\n",
    "                    similarity_scores[idx] += tag_weights[tag]\n",
    "\n",
    "    data['similarity'] = similarity_scores\n",
    "    sorted_data = data.sort_values(by='similarity', ascending=False)\n",
    "\n",
    "    recommendations = sorted_data.head(top_n)\n",
    "    recommendations_with_weather = []\n",
    "\n",
    "    for _, row in recommendations.iterrows():\n",
    "        destination_info = {\n",
    "            \"pID\": row['pID'],\n",
    "            \"pName\": row['pName'],\n",
    "            \"tags\": row['tags'],\n",
    "            \"similarity\": row['similarity'],\n",
    "        }\n",
    "        lat, lon = row.get('latitude'), row.get('longitude')\n",
    "        if pd.notnull(lat) and pd.notnull(lon):\n",
    "            weather_data = get_weather(lat, lon)\n",
    "            if weather_data:\n",
    "                destination_info[\"weather\"] = weather_data.get(\"description\", \"Weather info not available\")\n",
    "            else:\n",
    "                destination_info[\"weather\"] = \"Weather info not available\"\n",
    "        else:\n",
    "            destination_info[\"weather\"] = \"No weather data available\"\n",
    "\n",
    "        recommendations_with_weather.append(destination_info)\n",
    "\n",
    "    return pd.DataFrame(recommendations_with_weather)\n",
    "\n",
    "input_destination = input(\"Enter a destination: \")\n",
    "add_preferences = input(\"Do you want to add preferences? (yes/no): \").strip().lower()\n",
    "add_tags = input(\"Do you want to add tags? (yes/no): \").strip().lower()\n",
    "user_preferences = None\n",
    "selected_tags = None\n",
    "\n",
    "if add_preferences == \"yes\":\n",
    "    user_preferences = {\n",
    "        \"culture\": int(input(\"Rate your preference for culture (0-5): \")),\n",
    "        \"adventure\": int(input(\"Rate your preference for adventure (0-5): \")),\n",
    "        \"wildlife\": int(input(\"Rate your preference for wildlife (0-5): \")),\n",
    "        \"sightseeing\": int(input(\"Rate your preference for sightseeing (0-5): \")),\n",
    "        \"history\": int(input(\"Rate your preference for history (0-5): \"))\n",
    "    }\n",
    "\n",
    "if add_tags == \"yes\":\n",
    "    selected_tags = input(\"Enter tags separated by commas (e.g., adventure,culture): \").split(',')\n",
    "\n",
    "final_recommendations = recommend_destinations_with_weather(\n",
    "    input_destination,\n",
    "    user_preferences=user_preferences,\n",
    "    selected_tags=selected_tags,\n",
    "    top_n=5\n",
    ")\n",
    "\n",
    "print(\"\\nRecommendations with Weather Info:\")\n",
    "print(final_recommendations[['pName', 'weather']])"
   ]
  },
  {
   "cell_type": "code",
   "execution_count": null,
   "id": "7264cb4e-3356-4f7f-a696-195088d788b8",
   "metadata": {},
   "outputs": [],
   "source": []
  }
 ],
 "metadata": {
  "kernelspec": {
   "display_name": "Python 3 (ipykernel)",
   "language": "python",
   "name": "python3"
  },
  "language_info": {
   "codemirror_mode": {
    "name": "ipython",
    "version": 3
   },
   "file_extension": ".py",
   "mimetype": "text/x-python",
   "name": "python",
   "nbconvert_exporter": "python",
   "pygments_lexer": "ipython3",
   "version": "3.10.12"
  }
 },
 "nbformat": 4,
 "nbformat_minor": 5
}
