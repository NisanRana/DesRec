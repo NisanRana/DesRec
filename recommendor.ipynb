{
 "cells": [
  {
   "cell_type": "code",
   "execution_count": 9,
   "id": "8724a1f6-25dd-45fd-9c17-b7c30a326177",
   "metadata": {},
   "outputs": [
    {
     "name": "stdout",
     "output_type": "stream",
     "text": [
      "Recommended Destinations:\n",
      "                  pName  similarity\n",
      "473       Guerilla Trek    0.994274\n",
      "483  jauljibi,dharchula    0.991837\n",
      "331       Devchuli Hill    0.989096\n",
      "308               Jagat    0.985207\n",
      "28              Bhojpur    0.979160\n"
     ]
    }
   ],
   "source": [
    "# Import necessary libraries\n",
    "from sklearn.cluster import KMeans\n",
    "from sklearn.preprocessing import MinMaxScaler\n",
    "from sklearn.metrics.pairwise import cosine_similarity\n",
    "import pandas as pd\n",
    "import numpy as np\n",
    "import warnings\n",
    "warnings.filterwarnings(\"ignore\", message=\".*does not have valid feature names.*\")\n",
    "\n",
    "# Set a random seed for reproducibility\n",
    "RANDOM_SEED = 42\n",
    "\n",
    "# Load and preprocess the dataset\n",
    "data = pd.read_csv(\"destinations_with_coordinates.csv\")\n",
    "\n",
    "# Scale features for clustering\n",
    "scaler = MinMaxScaler()\n",
    "data[['culture', 'adventure', 'wildlife', 'sightseeing', 'history']] = scaler.fit_transform(\n",
    "    data[['culture', 'adventure', 'wildlife', 'sightseeing', 'history']]\n",
    ")\n",
    "\n",
    "# Define the feature set for clustering\n",
    "features = data[['culture', 'adventure', 'wildlife', 'sightseeing', 'history']]\n",
    "\n",
    "# Perform KMeans clustering\n",
    "optimal_k = 5  # Adjust based on your elbow method results\n",
    "kmeans = KMeans(n_clusters=optimal_k, random_state=RANDOM_SEED)\n",
    "data['cluster'] = kmeans.fit_predict(features)\n",
    "\n",
    "# Function to recommend destinations\n",
    "# Based on cluster and cosine similarity\n",
    "def recommend_destinations(user_preferences, data, top_n=5):\n",
    "    # Convert user preferences into a DataFrame with feature names\n",
    "    user_df = pd.DataFrame([user_preferences], columns=features.columns)\n",
    "    user_df = scaler.transform(user_df)  # Scale the user preferences\n",
    "\n",
    "    # Assign the user to the closest cluster\n",
    "    user_cluster = kmeans.predict(user_df)[0]\n",
    "\n",
    "    # Filter data to only include destinations in the same cluster\n",
    "    cluster_data = data[data['cluster'] == user_cluster]\n",
    "\n",
    "    # Compute cosine similarity between the user and destinations in the cluster\n",
    "    cluster_features = cluster_data[['culture', 'adventure', 'wildlife', 'sightseeing', 'history']]\n",
    "    similarities = cosine_similarity(user_df, cluster_features)[0]\n",
    "\n",
    "    # Add similarity scores to the cluster data\n",
    "    cluster_data = cluster_data.copy()\n",
    "    cluster_data['similarity'] = similarities\n",
    "\n",
    "    # Sort by similarity and return the top N recommendations\n",
    "    recommendations = cluster_data.sort_values(by='similarity', ascending=False).head(top_n)\n",
    "    return recommendations[['pName', 'similarity']]\n",
    "\n",
    "\n",
    "# Example usage\n",
    "user_preferences = {\n",
    "    \"culture\": 0.8,\n",
    "    \"adventure\": 0.6,\n",
    "    \"wildlife\": 0.4,\n",
    "    \"sightseeing\": 0.9,\n",
    "    \"history\": 0.7\n",
    "}\n",
    "\n",
    "# Get top 5 recommendations\n",
    "recommendations = recommend_destinations(user_preferences, data, top_n=5)\n",
    "print(\"Recommended Destinations:\")\n",
    "print(recommendations)\n"
   ]
  },
  {
   "cell_type": "code",
   "execution_count": null,
   "id": "19e3defd-e258-4c34-ab69-1591952f31a8",
   "metadata": {},
   "outputs": [],
   "source": []
  }
 ],
 "metadata": {
  "kernelspec": {
   "display_name": "Python 3 (ipykernel)",
   "language": "python",
   "name": "python3"
  },
  "language_info": {
   "codemirror_mode": {
    "name": "ipython",
    "version": 3
   },
   "file_extension": ".py",
   "mimetype": "text/x-python",
   "name": "python",
   "nbconvert_exporter": "python",
   "pygments_lexer": "ipython3",
   "version": "3.10.12"
  }
 },
 "nbformat": 4,
 "nbformat_minor": 5
}
