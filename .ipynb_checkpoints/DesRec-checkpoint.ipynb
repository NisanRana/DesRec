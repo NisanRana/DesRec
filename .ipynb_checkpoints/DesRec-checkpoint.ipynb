{
 "cells": [
  {
   "cell_type": "markdown",
   "id": "3fc892cc-c770-4613-bb1d-f2640c9b3a9a",
   "metadata": {},
   "source": [
    "### Preprocessing\n"
   ]
  },
  {
   "cell_type": "code",
   "execution_count": 1,
   "id": "33ae9ecb-d157-4e3d-9235-dec83540ad6e",
   "metadata": {},
   "outputs": [],
   "source": [
    "import pandas as pd\n",
    "import numpy as np\n",
    "import matplotlib.pyplot as plt\n",
    "import seaborn as sns\n"
   ]
  },
  {
   "cell_type": "code",
   "execution_count": 2,
   "id": "4a8a1b47-01ce-4364-985c-cea000fec7a7",
   "metadata": {},
   "outputs": [],
   "source": [
    "\n",
    "# Load dataset\n",
    "data=pd.read_csv(\"destinations_with_coordinates.csv\")\n",
    "df=pd.DataFrame(data)"
   ]
  },
  {
   "cell_type": "code",
   "execution_count": 3,
   "id": "95e10c23-f762-4b58-91a1-585ed1a80579",
   "metadata": {},
   "outputs": [],
   "source": [
    "from sklearn.preprocessing import MinMaxScaler"
   ]
  },
  {
   "cell_type": "code",
   "execution_count": 4,
   "id": "c32d398f-eddc-4697-b016-eabb2aebf58b",
   "metadata": {},
   "outputs": [
    {
     "name": "stdout",
     "output_type": "stream",
     "text": [
      "     pID                pName  culture  adventure  wildlife  sightseeing  \\\n",
      "512  513       Chadani bridge      0.0        0.0       0.0          0.8   \n",
      "513  514     Ghoda Ghodi lake      0.0        0.0       0.6          0.8   \n",
      "514  515         Tikapur Park      0.0        0.0       0.0          0.7   \n",
      "515  516  Godawari Ram Temple      0.8        0.0       0.0          0.8   \n",
      "516  517       Karnali Bridge      0.0        0.0       0.0          0.8   \n",
      "\n",
      "     history                            tags  province   latitude  longitude  \n",
      "512      0.0                           river         7  28.923935  80.115051  \n",
      "513      0.0  lake, wildlife, natural beauty         7        NaN        NaN  \n",
      "514      0.7           park, history, forest         7  28.531705  81.120085  \n",
      "515      0.0                   hindu, temple         7  27.601747  85.323626  \n",
      "516      0.0                 river, scenery          7  28.640886  81.283829  \n"
     ]
    }
   ],
   "source": [
    "scaler = MinMaxScaler()\n",
    "data[['culture', 'adventure', 'wildlife', 'sightseeing', 'history']] = scaler.fit_transform(\n",
    "    data[['culture', 'adventure', 'wildlife', 'sightseeing', 'history']]\n",
    ")\n",
    "# Add placeholder latitude and longitude columns if they don't exist\n",
    "if 'latitude' not in data.columns:\n",
    "    data['latitude'] = np.nan\n",
    "if 'longitude' not in data.columns:\n",
    "    data['longitude'] = np.nan\n",
    "\n",
    "# Save the updated dataset\n",
    "data.to_csv(\"destinations_with_coordinates.csv\", index=False)\n",
    "\n",
    "# Inspect data\n",
    "print(data.tail())"
   ]
  },
  {
   "cell_type": "code",
   "execution_count": 5,
   "id": "c8e2317e-e2e8-4c29-b710-72d4c8adae7c",
   "metadata": {},
   "outputs": [],
   "source": [
    "import pandas as pd\n",
    "from sklearn.metrics.pairwise import cosine_similarity\n",
    "from sklearn.preprocessing import MinMaxScaler\n",
    "\n",
    "\n",
    "\n",
    "# Preprocess tags\n",
    "data['tags'] = data['tags'].fillna('')  # Handle missing tags\n",
    "data['tags_list'] = data['tags'].apply(lambda x: [tag.strip() for tag in x.split(',') if tag.strip()])\n",
    "\n",
    "# Extract all unique tags and save to a file\n",
    "all_tags = set(tag for tags in data['tags_list'] for tag in tags)\n",
    "pd.DataFrame({'tag': list(all_tags)}).to_csv(\"tags.csv\", index=False)\n",
    "\n",
    "# Define tag-to-feature weights\n",
    "tag_weights = {\n",
    "    \"historical\": {\"culture\": 0.8, \"adventure\": 0.0, \"wildlife\": 0.0, \"sightseeing\": 0.6, \"history\": 1.0},\n",
    "    \"wildlife\": {\"culture\": 0.0, \"adventure\": 0.0, \"wildlife\": 1.0, \"sightseeing\": 0.3, \"history\": 0.0},\n",
    "    \"adventure\": {\"culture\": 0.0, \"adventure\": 1.0, \"wildlife\": 0.5, \"sightseeing\": 0.5, \"history\": 0.0},\n",
    "    \"cultural\": {\"culture\": 1.0, \"adventure\": 0.0, \"wildlife\": 0.0, \"sightseeing\": 0.8, \"history\": 0.7},\n",
    "    \"scenic\": {\"culture\": 0.2, \"adventure\": 0.0, \"wildlife\": 0.0, \"sightseeing\": 1.0, \"history\": 0.2},\n",
    "}\n",
    "\n",
    "# Normalize numeric features\n",
    "scaler = MinMaxScaler()\n",
    "data[['culture', 'adventure', 'wildlife', 'sightseeing', 'history']] = scaler.fit_transform(\n",
    "    data[['culture', 'adventure', 'wildlife', 'sightseeing', 'history']]\n",
    ")\n",
    "\n",
    "\n",
    "\n",
    "\n",
    "# Normalize numeric features\n",
    "features = ['culture', 'adventure', 'wildlife', 'sightseeing', 'history']\n",
    "scaler = MinMaxScaler()\n",
    "data[features] = scaler.fit_transform(data[features])\n"
   ]
  },
  {
   "cell_type": "markdown",
   "id": "6fcfd18c-9eaa-4276-bc2a-13d1e92cba7f",
   "metadata": {},
   "source": [
    "### model generation"
   ]
  },
  {
   "cell_type": "code",
   "execution_count": 6,
   "id": "9a13ca1f-ed7e-4b34-a044-8bf48b577766",
   "metadata": {},
   "outputs": [],
   "source": [
    "from sklearn.metrics.pairwise import cosine_similarity\n",
    "\n",
    "# Extract features for similarity\n",
    "features = ['culture', 'adventure', 'wildlife', 'sightseeing', 'history']\n",
    "\n",
    "# Compute the destination similarity matrix\n",
    "feature_matrix = data[features].values\n",
    "similarity_matrix = cosine_similarity(feature_matrix)"
   ]
  },
  {
   "cell_type": "markdown",
   "id": "6892d381-d98a-447a-9f43-4e09732681ae",
   "metadata": {},
   "source": [
    "### API integration"
   ]
  },
  {
   "cell_type": "code",
   "execution_count": 11,
   "id": "755d5d40-a693-41bd-9de0-b9bbd8d052f5",
   "metadata": {},
   "outputs": [],
   "source": [
    "import requests\n",
    "\n",
    "def get_weather(lat, lon):\n",
    "    \"\"\"\n",
    "    Fetch weather information for a given latitude and longitude using OpenWeatherMap API.\n",
    "    \"\"\"\n",
    "    api_key = \"13e12c96cea3ae958db69de1f4bf41bd\"  \n",
    "    url = f\"https://api.openweathermap.org/data/2.0/weather?lat={lat}&lon={lon}&appid={api_key}\"\n",
    "\n",
    "    try:\n",
    "        response = requests.get(url)\n",
    "        if response.status_code == 200:\n",
    "            weather_data = response.json()\n",
    "            return {\n",
    "                \"description\": weather_data[\"weather\"][0][\"description\"],\n",
    "                \"temperature\": weather_data[\"main\"][\"temp\"],\n",
    "                \"humidity\": weather_data[\"main\"][\"humidity\"],\n",
    "            }\n",
    "        else:\n",
    "            print(f\"API Error: {response.status_code}, {response.text}\")\n",
    "            return None\n",
    "    except Exception as e:\n",
    "        print(f\"Error fetching weather data: {e}\")\n",
    "        return None\n"
   ]
  },
  {
   "cell_type": "code",
   "execution_count": null,
   "id": "b2de6f41-65b2-4894-a4e1-26f76e374509",
   "metadata": {},
   "outputs": [],
   "source": []
  },
  {
   "cell_type": "code",
   "execution_count": null,
   "id": "47545190-645b-499a-9abb-257f0dfe10e4",
   "metadata": {},
   "outputs": [],
   "source": [
    "\n"
   ]
  },
  {
   "cell_type": "markdown",
   "id": "a854ca40-1548-469b-aa0b-d7545aa81957",
   "metadata": {},
   "source": [
    "### recommendor"
   ]
  },
  {
   "cell_type": "code",
   "execution_count": 12,
   "id": "178be5a0-d81c-48aa-8b45-326914814d3f",
   "metadata": {},
   "outputs": [
    {
     "name": "stdout",
     "output_type": "stream",
     "text": [
      "API Error: 401, {\"cod\":401, \"message\": \"Invalid API key. Please see https://openweathermap.org/faq#error401 for more info.\"}\n",
      "\n",
      "Weather-Filtered Recommendations:\n",
      "   pID                             pName                     weather\n",
      "0  234              Ranipokhari, chitwan   No weather data available\n",
      "1  232                     Bishazari Tal   No weather data available\n",
      "2  448  Rafting and Kayaking in Karnali    No weather data available\n",
      "3   74                       Tamur river  Weather info not available\n",
      "4  246                   Larpak Village    No weather data available\n"
     ]
    }
   ],
   "source": [
    "\n",
    "import pandas as pd\n",
    "from sklearn.metrics.pairwise import cosine_similarity\n",
    "from sklearn.preprocessing import MinMaxScaler\n",
    "\n",
    "\n",
    "def recommend_destinations_with_weather(input_destination, user_preferences, selected_tags, top_n=5):\n",
    "    \"\"\"\n",
    "    Recommend destinations based on cosine similarity, user preferences, and tags.\n",
    "    Filter the recommendations by weather conditions.\n",
    "    \"\"\"\n",
    "    # Define feature columns\n",
    "    features = [\"culture\", \"adventure\", \"wildlife\", \"sightseeing\", \"history\"]\n",
    "    feature_matrix = data[features].values\n",
    "\n",
    "    # Find the index of the input destination\n",
    "    if input_destination not in data['pName'].values:\n",
    "        raise ValueError(f\"Destination '{input_destination}' not found in dataset.\")\n",
    "    destination_idx = data[data['pName'] == input_destination].index[0]\n",
    "\n",
    "    # Compute similarity scores\n",
    "    similarity_scores = cosine_similarity(feature_matrix, feature_matrix[destination_idx].reshape(1, -1)).flatten()\n",
    "\n",
    "    # Incorporate user preferences\n",
    "    user_vector = np.array([user_preferences[feature] for feature in features])\n",
    "    similarity_scores += cosine_similarity(feature_matrix, user_vector.reshape(1, -1)).flatten()\n",
    "\n",
    "    # Boost scores based on tags\n",
    "    tag_weights = {tag: 1 for tag in selected_tags}\n",
    "    for idx, row in data.iterrows():\n",
    "        row_tags = row['tags'].split(',')\n",
    "        for tag in row_tags:\n",
    "            if tag in tag_weights:\n",
    "                similarity_scores[idx] += tag_weights[tag]\n",
    "\n",
    "    # Sort destinations by adjusted scores\n",
    "    data['similarity'] = similarity_scores\n",
    "    sorted_data = data.sort_values(by='similarity', ascending=False)\n",
    "\n",
    "    # Get top N recommendations\n",
    "    recommendations = sorted_data.head(top_n)\n",
    "    recommendations_with_weather = []\n",
    "\n",
    "    # Add weather information\n",
    "    for _, row in recommendations.iterrows():\n",
    "        destination_info = {\n",
    "            \"pID\": row['pID'],\n",
    "            \"pName\": row['pName'],\n",
    "            \"tags\": row['tags'],\n",
    "            \"similarity\": row['similarity'],\n",
    "        }\n",
    "        lat, lon = row.get('latitude'), row.get('longitude')\n",
    "        if pd.notnull(lat) and pd.notnull(lon):\n",
    "            weather_data = get_weather(lat, lon)\n",
    "            if weather_data:\n",
    "                destination_info[\"weather\"] = weather_data.get(\"description\", \"Weather info not available\")\n",
    "            else:\n",
    "                destination_info[\"weather\"] = \"Weather info not available\"\n",
    "        else:\n",
    "            destination_info[\"weather\"] = \"No weather data available\"\n",
    "\n",
    "        recommendations_with_weather.append(destination_info)\n",
    "\n",
    "    return pd.DataFrame(recommendations_with_weather)\n",
    "\n",
    "#user input\n",
    "input_destination = \"Jiri\"\n",
    "user_preferences = {\"culture\": 4, \"adventure\": 5, \"wildlife\": 3, \"sightseeing\": 5, \"history\": 2}\n",
    "selected_tags = [\"adventure\", \"culture\"]\n",
    "\n",
    "# Get recommendations\n",
    "final_recommendations = recommend_destinations_with_weather(input_destination, user_preferences, selected_tags, top_n=5)\n",
    "print(\"\\nWeather-Filtered Recommendations:\")\n",
    "print(final_recommendations[['pID', 'pName','weather']])"
   ]
  },
  {
   "cell_type": "code",
   "execution_count": null,
   "id": "7264cb4e-3356-4f7f-a696-195088d788b8",
   "metadata": {},
   "outputs": [],
   "source": []
  }
 ],
 "metadata": {
  "kernelspec": {
   "display_name": "Python 3 (ipykernel)",
   "language": "python",
   "name": "python3"
  },
  "language_info": {
   "codemirror_mode": {
    "name": "ipython",
    "version": 3
   },
   "file_extension": ".py",
   "mimetype": "text/x-python",
   "name": "python",
   "nbconvert_exporter": "python",
   "pygments_lexer": "ipython3",
   "version": "3.10.12"
  }
 },
 "nbformat": 4,
 "nbformat_minor": 5
}
