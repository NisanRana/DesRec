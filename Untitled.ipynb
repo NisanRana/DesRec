{
 "cells": [
  {
   "cell_type": "code",
   "execution_count": 5,
   "id": "33ae9ecb-d157-4e3d-9235-dec83540ad6e",
   "metadata": {},
   "outputs": [],
   "source": [
    "import pandas as pd\n",
    "import numpy as np\n",
    "import matplotlib.pyplot as plt\n",
    "import seaborn as sns\n"
   ]
  },
  {
   "cell_type": "code",
   "execution_count": 6,
   "id": "4a8a1b47-01ce-4364-985c-cea000fec7a7",
   "metadata": {},
   "outputs": [],
   "source": [
    "data=pd.read_csv(\"data.csv\")\n",
    "df=pd.DataFrame(data)"
   ]
  },
  {
   "cell_type": "code",
   "execution_count": 34,
   "id": "df0fe2df-95f0-4f7f-98af-6fd987f44908",
   "metadata": {},
   "outputs": [],
   "source": [
    "### Preprocessing\n"
   ]
  },
  {
   "cell_type": "code",
   "execution_count": 35,
   "id": "95e10c23-f762-4b58-91a1-585ed1a80579",
   "metadata": {},
   "outputs": [],
   "source": [
    "from sklearn.preprocessing import MinMaxScaler"
   ]
  },
  {
   "cell_type": "code",
   "execution_count": 36,
   "id": "c32d398f-eddc-4697-b016-eabb2aebf58b",
   "metadata": {},
   "outputs": [
    {
     "name": "stdout",
     "output_type": "stream",
     "text": [
      "   pID            pName  culture  adventure  wildlife  sightseeing  history  \\\n",
      "0    1       Satasidham      1.0        0.0       0.0          1.0      0.6   \n",
      "1    2  Arjundhara Dham      1.0        0.0       0.0          0.6      1.0   \n",
      "2    3      Kichakavadh      0.8        0.0       0.0          1.0      1.0   \n",
      "3    4      Biratpokhar      0.4        0.0       0.0          1.0      1.0   \n",
      "4    5    Krishnathumki      1.0        0.4       0.0          1.0      1.0   \n",
      "\n",
      "                                             tags  province  \n",
      "0  waterfall, pond, garden, cave , hindu , temple         1  \n",
      "1             hindu, temple, pond, gurukul, farm          1  \n",
      "2    hindu, pond, garden, temple, castle remnants         1  \n",
      "3                             hindu, pond, garden         1  \n",
      "4       hindu , pond, garden, temple , boat ride          1  \n"
     ]
    }
   ],
   "source": [
    "scaler = MinMaxScaler()\n",
    "data[['culture', 'adventure', 'wildlife', 'sightseeing', 'history']] = scaler.fit_transform(\n",
    "    data[['culture', 'adventure', 'wildlife', 'sightseeing', 'history']]\n",
    ")\n",
    "\n",
    "# Inspect data\n",
    "print(data.head())"
   ]
  },
  {
   "cell_type": "code",
   "execution_count": 38,
   "id": "c9245d39-5679-4b49-9e2a-4e6325699719",
   "metadata": {},
   "outputs": [],
   "source": [
    "### model generation"
   ]
  },
  {
   "cell_type": "code",
   "execution_count": 39,
   "id": "47545190-645b-499a-9abb-257f0dfe10e4",
   "metadata": {},
   "outputs": [],
   "source": [
    "from sklearn.metrics.pairwise import cosine_similarity\n",
    "\n",
    "# Extract features for similarity\n",
    "features = ['culture', 'adventure', 'wildlife', 'sightseeing', 'history']\n",
    "feature_matrix = data[features]\n",
    "\n",
    "# Compute cosine similarity\n",
    "similarity_matrix = cosine_similarity(feature_matrix)\n"
   ]
  },
  {
   "cell_type": "code",
   "execution_count": 40,
   "id": "e5746d69-6975-48d2-8140-396a28ee9e86",
   "metadata": {},
   "outputs": [],
   "source": [
    "### recommendor"
   ]
  },
  {
   "cell_type": "code",
   "execution_count": 47,
   "id": "c5dbe9f6-87ea-47d1-93fb-d9019ac0281a",
   "metadata": {},
   "outputs": [
    {
     "name": "stdout",
     "output_type": "stream",
     "text": [
      "     pID                          pName\n",
      "325  326                      Manungkot\n",
      "315  316                       Bandipur\n",
      "277  278  International Mountain Museum\n",
      "320  321                  Chundi Ramgha\n",
      "391  392                        Ismakot\n"
     ]
    }
   ],
   "source": [
    "def recommend_destinations(destination_name, top_n=5):\n",
    "    # Find the index of the destination\n",
    "    destination_idx = data[data['pName'] == destination_name].index[0]\n",
    "    \n",
    "    # Get similarity scores\n",
    "    similarity_scores = list(enumerate(similarity_matrix[destination_idx]))\n",
    "    \n",
    "    # Sort by similarity score\n",
    "    sorted_scores = sorted(similarity_scores, key=lambda x: x[1], reverse=True)\n",
    "    \n",
    "    # Fetch top N recommendations (excluding the queried destination)\n",
    "    recommended_indices = [i[0] for i in sorted_scores[1:top_n+1]]\n",
    "    \n",
    "    # Return recommended destinations\n",
    "    return data.iloc[recommended_indices][['pID', 'pName']]\n",
    "\n",
    "# Example usage\n",
    "print(recommend_destinations(\"Biratpokhar\"))\n"
   ]
  },
  {
   "cell_type": "code",
   "execution_count": 48,
   "id": "d3d5a329-9e95-4a58-bb0a-5f85834a5358",
   "metadata": {},
   "outputs": [
    {
     "name": "stdout",
     "output_type": "stream",
     "text": [
      "     pID                             pName\n",
      "172  173  Shivapuri Nagarjun National Park\n",
      "123  124             Chitwan national park\n",
      "70    71                         Panchthar\n",
      "274  275                        Phewa Lake\n",
      "311  312                  Annapurna Second\n"
     ]
    }
   ],
   "source": [
    "def recommend_for_user_preferences(user_ratings, top_n=5):\n",
    "    # Convert user preferences to a DataFrame\n",
    "    user_vector = pd.DataFrame([user_ratings], columns=features)\n",
    "    \n",
    "    # Compute similarity with all destinations\n",
    "    user_similarity = cosine_similarity(user_vector, feature_matrix)\n",
    "    \n",
    "    # Flatten similarity array\n",
    "    user_similarity = user_similarity.flatten()\n",
    "    \n",
    "    # Sort destinations by similarity\n",
    "    sorted_indices = user_similarity.argsort()[::-1]\n",
    "    \n",
    "    # Return top N destinations\n",
    "    return data.iloc[sorted_indices[:top_n]][['pID', 'pName']]\n",
    "\n",
    "# Example user preferences\n",
    "user_preferences = {'culture': 1, 'adventure': 5, 'wildlife': 5, 'sightseeing': 5, 'history': 5}\n",
    "print(recommend_for_user_preferences(user_preferences))\n"
   ]
  },
  {
   "cell_type": "code",
   "execution_count": 46,
   "id": "661a67bb-476c-402f-b5c6-91724e16c424",
   "metadata": {},
   "outputs": [],
   "source": []
  },
  {
   "cell_type": "code",
   "execution_count": null,
   "id": "178be5a0-d81c-48aa-8b45-326914814d3f",
   "metadata": {},
   "outputs": [],
   "source": []
  }
 ],
 "metadata": {
  "kernelspec": {
   "display_name": "Python 3 (ipykernel)",
   "language": "python",
   "name": "python3"
  },
  "language_info": {
   "codemirror_mode": {
    "name": "ipython",
    "version": 3
   },
   "file_extension": ".py",
   "mimetype": "text/x-python",
   "name": "python",
   "nbconvert_exporter": "python",
   "pygments_lexer": "ipython3",
   "version": "3.10.12"
  }
 },
 "nbformat": 4,
 "nbformat_minor": 5
}
