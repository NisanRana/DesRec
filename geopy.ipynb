{
 "cells": [
  {
   "cell_type": "code",
   "execution_count": 2,
   "id": "a2743288-8a57-4981-9389-a83673fdf682",
   "metadata": {},
   "outputs": [
    {
     "name": "stdout",
     "output_type": "stream",
     "text": [
      "Coordinates added to the dataset!\n"
     ]
    }
   ],
   "source": [
    "from geopy.geocoders import Nominatim\n",
    "import pandas as pd\n",
    "import time\n",
    "\n",
    "# Load dataset\n",
    "data = pd.read_csv(\"data.csv\")\n",
    "\n",
    "# Initialize geocoder\n",
    "geolocator = Nominatim(user_agent=\"destination-recommender\")\n",
    "\n",
    "# Function to fetch latitude and longitude\n",
    "def fetch_coordinates(location_name):\n",
    "    try:\n",
    "        location = geolocator.geocode(location_name)\n",
    "        if location:\n",
    "            return location.latitude, location.longitude\n",
    "        else:\n",
    "            return None, None\n",
    "        time.sleep(1)\n",
    "    except Exception as e:\n",
    "        print(f\"Error fetching coordinates for {location_name}: {e}\")\n",
    "        return None, None\n",
    "\n",
    "\n",
    "failed_locations = []\n",
    "\n",
    "def fetch_coordinates_safe(location_name):\n",
    "    try:\n",
    "        lat, lon = fetch_coordinates(location_name)\n",
    "        if lat is None or lon is None:\n",
    "            failed_locations.append(location_name)\n",
    "        return lat, lon\n",
    "    except Exception as e:\n",
    "        failed_locations.append(location_name)\n",
    "        return None, None\n",
    "\n",
    "# Example: Save to a local cache file\n",
    "cache = {}\n",
    "\n",
    "def fetch_with_cache(location_name):\n",
    "    if location_name in cache:\n",
    "        return cache[location_name]\n",
    "    lat, lon = fetch_coordinates(location_name)\n",
    "    cache[location_name] = (lat, lon)\n",
    "    return lat, lon\n",
    "\n",
    "# Save cache to disk\n",
    "import pickle\n",
    "with open(\"geocode_cache.pkl\", \"wb\") as f:\n",
    "    pickle.dump(cache, f)\n",
    "\n",
    "# Add latitude and longitude columns\n",
    "data[['latitude', 'longitude']] = data['pName'].apply(lambda x: pd.Series(fetch_coordinates(x)))\n",
    "\n",
    "# Save the updated dataset\n",
    "data.to_csv(\"destinations_with_coordinates.csv\", index=False)\n",
    "\n",
    "print(\"Coordinates added to the dataset!\")\n"
   ]
  },
  {
   "cell_type": "code",
   "execution_count": null,
   "id": "6db4382a-deec-48e0-9740-13bcb34bf348",
   "metadata": {},
   "outputs": [],
   "source": []
  }
 ],
 "metadata": {
  "kernelspec": {
   "display_name": "Python 3 (ipykernel)",
   "language": "python",
   "name": "python3"
  },
  "language_info": {
   "codemirror_mode": {
    "name": "ipython",
    "version": 3
   },
   "file_extension": ".py",
   "mimetype": "text/x-python",
   "name": "python",
   "nbconvert_exporter": "python",
   "pygments_lexer": "ipython3",
   "version": "3.10.12"
  }
 },
 "nbformat": 4,
 "nbformat_minor": 5
}
